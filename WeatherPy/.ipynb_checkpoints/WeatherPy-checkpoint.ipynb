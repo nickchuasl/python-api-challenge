{
 "cells": [
  {
   "cell_type": "markdown",
   "metadata": {},
   "source": [
    "# WeatherPy\n",
    "----\n",
    "\n",
    "#### Note\n",
    "* Instructions have been included for each segment. You do not have to follow them exactly, but they are included to help you think through the steps."
   ]
  },
  {
   "cell_type": "code",
   "execution_count": 1,
   "metadata": {
    "scrolled": true
   },
   "outputs": [],
   "source": [
    "#Dependencies\n",
    "import pandas as pd\n",
    "import json\n",
    "import requests\n",
    "from api_keys import weather_api_key\n",
    "from pprint import pprint\n",
    "import random\n",
    "import numpy as np\n",
    "import matplotlib.pyplot as plt\n",
    "from scipy.stats import linregress"
   ]
  },
  {
   "cell_type": "markdown",
   "metadata": {},
   "source": [
    "## Generate Cities List"
   ]
  },
  {
   "cell_type": "code",
   "execution_count": 2,
   "metadata": {},
   "outputs": [
    {
     "data": {
      "text/html": [
       "<div>\n",
       "<style scoped>\n",
       "    .dataframe tbody tr th:only-of-type {\n",
       "        vertical-align: middle;\n",
       "    }\n",
       "\n",
       "    .dataframe tbody tr th {\n",
       "        vertical-align: top;\n",
       "    }\n",
       "\n",
       "    .dataframe thead th {\n",
       "        text-align: right;\n",
       "    }\n",
       "</style>\n",
       "<table border=\"1\" class=\"dataframe\">\n",
       "  <thead>\n",
       "    <tr style=\"text-align: right;\">\n",
       "      <th></th>\n",
       "      <th>city</th>\n",
       "      <th>city_ascii</th>\n",
       "      <th>lat</th>\n",
       "      <th>lng</th>\n",
       "      <th>country</th>\n",
       "      <th>iso2</th>\n",
       "      <th>iso3</th>\n",
       "      <th>admin_name</th>\n",
       "      <th>capital</th>\n",
       "      <th>population</th>\n",
       "      <th>id</th>\n",
       "    </tr>\n",
       "  </thead>\n",
       "  <tbody>\n",
       "    <tr>\n",
       "      <th>0</th>\n",
       "      <td>Tokyo</td>\n",
       "      <td>Tokyo</td>\n",
       "      <td>35.6897</td>\n",
       "      <td>139.6922</td>\n",
       "      <td>Japan</td>\n",
       "      <td>JP</td>\n",
       "      <td>JPN</td>\n",
       "      <td>Tōkyō</td>\n",
       "      <td>primary</td>\n",
       "      <td>37977000.0</td>\n",
       "      <td>1392685764</td>\n",
       "    </tr>\n",
       "    <tr>\n",
       "      <th>1</th>\n",
       "      <td>Jakarta</td>\n",
       "      <td>Jakarta</td>\n",
       "      <td>-6.2146</td>\n",
       "      <td>106.8451</td>\n",
       "      <td>Indonesia</td>\n",
       "      <td>ID</td>\n",
       "      <td>IDN</td>\n",
       "      <td>Jakarta</td>\n",
       "      <td>primary</td>\n",
       "      <td>34540000.0</td>\n",
       "      <td>1360771077</td>\n",
       "    </tr>\n",
       "    <tr>\n",
       "      <th>2</th>\n",
       "      <td>Delhi</td>\n",
       "      <td>Delhi</td>\n",
       "      <td>28.6600</td>\n",
       "      <td>77.2300</td>\n",
       "      <td>India</td>\n",
       "      <td>IN</td>\n",
       "      <td>IND</td>\n",
       "      <td>Delhi</td>\n",
       "      <td>admin</td>\n",
       "      <td>29617000.0</td>\n",
       "      <td>1356872604</td>\n",
       "    </tr>\n",
       "    <tr>\n",
       "      <th>3</th>\n",
       "      <td>Mumbai</td>\n",
       "      <td>Mumbai</td>\n",
       "      <td>18.9667</td>\n",
       "      <td>72.8333</td>\n",
       "      <td>India</td>\n",
       "      <td>IN</td>\n",
       "      <td>IND</td>\n",
       "      <td>Mahārāshtra</td>\n",
       "      <td>admin</td>\n",
       "      <td>23355000.0</td>\n",
       "      <td>1356226629</td>\n",
       "    </tr>\n",
       "    <tr>\n",
       "      <th>4</th>\n",
       "      <td>Manila</td>\n",
       "      <td>Manila</td>\n",
       "      <td>14.6000</td>\n",
       "      <td>120.9833</td>\n",
       "      <td>Philippines</td>\n",
       "      <td>PH</td>\n",
       "      <td>PHL</td>\n",
       "      <td>Manila</td>\n",
       "      <td>primary</td>\n",
       "      <td>23088000.0</td>\n",
       "      <td>1608618140</td>\n",
       "    </tr>\n",
       "  </tbody>\n",
       "</table>\n",
       "</div>"
      ],
      "text/plain": [
       "      city city_ascii      lat       lng      country iso2 iso3   admin_name  \\\n",
       "0    Tokyo      Tokyo  35.6897  139.6922        Japan   JP  JPN        Tōkyō   \n",
       "1  Jakarta    Jakarta  -6.2146  106.8451    Indonesia   ID  IDN      Jakarta   \n",
       "2    Delhi      Delhi  28.6600   77.2300        India   IN  IND        Delhi   \n",
       "3   Mumbai     Mumbai  18.9667   72.8333        India   IN  IND  Mahārāshtra   \n",
       "4   Manila     Manila  14.6000  120.9833  Philippines   PH  PHL       Manila   \n",
       "\n",
       "   capital  population          id  \n",
       "0  primary  37977000.0  1392685764  \n",
       "1  primary  34540000.0  1360771077  \n",
       "2    admin  29617000.0  1356872604  \n",
       "3    admin  23355000.0  1356226629  \n",
       "4  primary  23088000.0  1608618140  "
      ]
     },
     "execution_count": 2,
     "metadata": {},
     "output_type": "execute_result"
    }
   ],
   "source": [
    "full_cities_file = pd.read_csv(\"../Resources/output_data/worldcities.csv\")\n",
    "\n",
    "#Get a random sample of 600 cities from full_cities_file\n",
    "\n",
    "full_cities_file.head()"
   ]
  },
  {
   "cell_type": "code",
   "execution_count": 3,
   "metadata": {},
   "outputs": [
    {
     "data": {
      "text/html": [
       "<div>\n",
       "<style scoped>\n",
       "    .dataframe tbody tr th:only-of-type {\n",
       "        vertical-align: middle;\n",
       "    }\n",
       "\n",
       "    .dataframe tbody tr th {\n",
       "        vertical-align: top;\n",
       "    }\n",
       "\n",
       "    .dataframe thead th {\n",
       "        text-align: right;\n",
       "    }\n",
       "</style>\n",
       "<table border=\"1\" class=\"dataframe\">\n",
       "  <thead>\n",
       "    <tr style=\"text-align: right;\">\n",
       "      <th></th>\n",
       "      <th>lat</th>\n",
       "      <th>lng</th>\n",
       "      <th>population</th>\n",
       "      <th>id</th>\n",
       "    </tr>\n",
       "  </thead>\n",
       "  <tbody>\n",
       "    <tr>\n",
       "      <th>count</th>\n",
       "      <td>41001.000000</td>\n",
       "      <td>41001.000000</td>\n",
       "      <td>4.026300e+04</td>\n",
       "      <td>4.100100e+04</td>\n",
       "    </tr>\n",
       "    <tr>\n",
       "      <th>mean</th>\n",
       "      <td>30.909850</td>\n",
       "      <td>-4.228119</td>\n",
       "      <td>1.117614e+05</td>\n",
       "      <td>1.487309e+09</td>\n",
       "    </tr>\n",
       "    <tr>\n",
       "      <th>std</th>\n",
       "      <td>23.504898</td>\n",
       "      <td>68.759032</td>\n",
       "      <td>7.248917e+05</td>\n",
       "      <td>2.847205e+08</td>\n",
       "    </tr>\n",
       "    <tr>\n",
       "      <th>min</th>\n",
       "      <td>-54.934100</td>\n",
       "      <td>-179.590000</td>\n",
       "      <td>0.000000e+00</td>\n",
       "      <td>1.004003e+09</td>\n",
       "    </tr>\n",
       "    <tr>\n",
       "      <th>25%</th>\n",
       "      <td>19.190300</td>\n",
       "      <td>-71.850000</td>\n",
       "      <td>8.194000e+03</td>\n",
       "      <td>1.250291e+09</td>\n",
       "    </tr>\n",
       "    <tr>\n",
       "      <th>50%</th>\n",
       "      <td>39.885400</td>\n",
       "      <td>3.333300</td>\n",
       "      <td>1.583100e+04</td>\n",
       "      <td>1.484693e+09</td>\n",
       "    </tr>\n",
       "    <tr>\n",
       "      <th>75%</th>\n",
       "      <td>47.371700</td>\n",
       "      <td>25.983300</td>\n",
       "      <td>3.982350e+04</td>\n",
       "      <td>1.807301e+09</td>\n",
       "    </tr>\n",
       "    <tr>\n",
       "      <th>max</th>\n",
       "      <td>81.716600</td>\n",
       "      <td>179.366700</td>\n",
       "      <td>3.797700e+07</td>\n",
       "      <td>1.934000e+09</td>\n",
       "    </tr>\n",
       "  </tbody>\n",
       "</table>\n",
       "</div>"
      ],
      "text/plain": [
       "                lat           lng    population            id\n",
       "count  41001.000000  41001.000000  4.026300e+04  4.100100e+04\n",
       "mean      30.909850     -4.228119  1.117614e+05  1.487309e+09\n",
       "std       23.504898     68.759032  7.248917e+05  2.847205e+08\n",
       "min      -54.934100   -179.590000  0.000000e+00  1.004003e+09\n",
       "25%       19.190300    -71.850000  8.194000e+03  1.250291e+09\n",
       "50%       39.885400      3.333300  1.583100e+04  1.484693e+09\n",
       "75%       47.371700     25.983300  3.982350e+04  1.807301e+09\n",
       "max       81.716600    179.366700  3.797700e+07  1.934000e+09"
      ]
     },
     "execution_count": 3,
     "metadata": {},
     "output_type": "execute_result"
    }
   ],
   "source": [
    "full_cities_file.describe()"
   ]
  },
  {
   "cell_type": "code",
   "execution_count": 4,
   "metadata": {},
   "outputs": [],
   "source": [
    "#Commented out the line below so that a fixed sample of 600 is used \n",
    "#rather than changing everytime we run this code\n",
    "\n",
    "#cities_file = (full_cities_file.sample(600)).to_csv(\"../Resources/output_data/cities_names.csv\", index= False, header = True)"
   ]
  },
  {
   "cell_type": "code",
   "execution_count": 5,
   "metadata": {},
   "outputs": [
    {
     "name": "stdout",
     "output_type": "stream",
     "text": [
      "600\n"
     ]
    },
    {
     "data": {
      "text/html": [
       "<div>\n",
       "<style scoped>\n",
       "    .dataframe tbody tr th:only-of-type {\n",
       "        vertical-align: middle;\n",
       "    }\n",
       "\n",
       "    .dataframe tbody tr th {\n",
       "        vertical-align: top;\n",
       "    }\n",
       "\n",
       "    .dataframe thead th {\n",
       "        text-align: right;\n",
       "    }\n",
       "</style>\n",
       "<table border=\"1\" class=\"dataframe\">\n",
       "  <thead>\n",
       "    <tr style=\"text-align: right;\">\n",
       "      <th></th>\n",
       "      <th>city</th>\n",
       "      <th>lat</th>\n",
       "      <th>lng</th>\n",
       "      <th>country</th>\n",
       "      <th>iso2</th>\n",
       "    </tr>\n",
       "  </thead>\n",
       "  <tbody>\n",
       "    <tr>\n",
       "      <th>0</th>\n",
       "      <td>Arima</td>\n",
       "      <td>10.6374</td>\n",
       "      <td>-61.2823</td>\n",
       "      <td>Trinidad And Tobago</td>\n",
       "      <td>TT</td>\n",
       "    </tr>\n",
       "    <tr>\n",
       "      <th>1</th>\n",
       "      <td>Shankou</td>\n",
       "      <td>24.5032</td>\n",
       "      <td>116.4046</td>\n",
       "      <td>China</td>\n",
       "      <td>CN</td>\n",
       "    </tr>\n",
       "    <tr>\n",
       "      <th>2</th>\n",
       "      <td>Uraí</td>\n",
       "      <td>-23.1978</td>\n",
       "      <td>-50.7958</td>\n",
       "      <td>Brazil</td>\n",
       "      <td>BR</td>\n",
       "    </tr>\n",
       "    <tr>\n",
       "      <th>3</th>\n",
       "      <td>Farmington</td>\n",
       "      <td>44.6573</td>\n",
       "      <td>-93.1688</td>\n",
       "      <td>United States</td>\n",
       "      <td>US</td>\n",
       "    </tr>\n",
       "    <tr>\n",
       "      <th>4</th>\n",
       "      <td>Tsetserleg</td>\n",
       "      <td>47.4769</td>\n",
       "      <td>101.4503</td>\n",
       "      <td>Mongolia</td>\n",
       "      <td>MN</td>\n",
       "    </tr>\n",
       "  </tbody>\n",
       "</table>\n",
       "</div>"
      ],
      "text/plain": [
       "         city      lat       lng              country iso2\n",
       "0       Arima  10.6374  -61.2823  Trinidad And Tobago   TT\n",
       "1     Shankou  24.5032  116.4046                China   CN\n",
       "2        Uraí -23.1978  -50.7958               Brazil   BR\n",
       "3  Farmington  44.6573  -93.1688        United States   US\n",
       "4  Tsetserleg  47.4769  101.4503             Mongolia   MN"
      ]
     },
     "execution_count": 5,
     "metadata": {},
     "output_type": "execute_result"
    }
   ],
   "source": [
    "interest_cities = pd.read_csv(\"../Resources/output_data/cities_names.csv\")\n",
    "interest_cities = interest_cities[['city','lat', 'lng', 'country','iso2',]]\n",
    "\n",
    "print(len(interest_cities))\n",
    "\n",
    "interest_cities.head()"
   ]
  },
  {
   "cell_type": "markdown",
   "metadata": {},
   "source": [
    "### Perform API Calls\n",
    "* Perform a weather check on each city using a series of successive API calls.\n",
    "* Include a print log of each city as it'sbeing processed (with the city number and city name).\n"
   ]
  },
  {
   "cell_type": "code",
   "execution_count": 6,
   "metadata": {},
   "outputs": [
    {
     "data": {
      "text/html": [
       "<div>\n",
       "<style scoped>\n",
       "    .dataframe tbody tr th:only-of-type {\n",
       "        vertical-align: middle;\n",
       "    }\n",
       "\n",
       "    .dataframe tbody tr th {\n",
       "        vertical-align: top;\n",
       "    }\n",
       "\n",
       "    .dataframe thead th {\n",
       "        text-align: right;\n",
       "    }\n",
       "</style>\n",
       "<table border=\"1\" class=\"dataframe\">\n",
       "  <thead>\n",
       "    <tr style=\"text-align: right;\">\n",
       "      <th></th>\n",
       "      <th>City</th>\n",
       "      <th>Lat</th>\n",
       "      <th>Lng</th>\n",
       "      <th>Max Temp</th>\n",
       "      <th>Humidity</th>\n",
       "      <th>Cloudiness</th>\n",
       "      <th>Wind Speed</th>\n",
       "      <th>Country</th>\n",
       "      <th>Date</th>\n",
       "    </tr>\n",
       "  </thead>\n",
       "  <tbody>\n",
       "  </tbody>\n",
       "</table>\n",
       "</div>"
      ],
      "text/plain": [
       "Empty DataFrame\n",
       "Columns: [City, Lat, Lng, Max Temp, Humidity, Cloudiness, Wind Speed, Country, Date]\n",
       "Index: []"
      ]
     },
     "execution_count": 6,
     "metadata": {},
     "output_type": "execute_result"
    }
   ],
   "source": [
    "#Create a new dataFrame to hold all values\n",
    "cities_pd = pd.DataFrame()\n",
    "cities_pd[\"City\"] = \"\"\n",
    "cities_pd[\"Lat\"] = \"\"\n",
    "cities_pd[\"Lng\"] = \"\"\n",
    "cities_pd[\"Max Temp\"] = \"\"\n",
    "cities_pd[\"Humidity\"] = \"\"\n",
    "cities_pd[\"Cloudiness\"] = \"\"\n",
    "cities_pd[\"Wind Speed\"] = \"\"\n",
    "cities_pd[\"Country\"] = \"\"\n",
    "cities_pd[\"Date\"] = \"\"\n",
    "cities_pd.head()"
   ]
  },
  {
   "cell_type": "code",
   "execution_count": null,
   "metadata": {},
   "outputs": [
    {
     "name": "stdout",
     "output_type": "stream",
     "text": [
      "Beginning Data Retrieval\n",
      "--------------------------------\n",
      "Processing Record 1 of Set 1 | Arima\n",
      "Processing Record 2 of Set 1 | Huliao\n",
      "Processing Record 3 of Set 1 | Leópolis\n",
      "Processing Record 4 of Set 1 | Farmington\n",
      "Processing Record 5 of Set 1 | Cecerleg\n",
      "Processing Record 6 of Set 1 | Charta\n",
      "Processing Record 7 of Set 1 | Melrose\n",
      "Processing Record 8 of Set 1 | Visp\n",
      "Processing Record 9 of Set 1 | Surat Thani\n",
      "Processing Record 10 of Set 1 | Kupino\n",
      "Processing Record 11 of Set 1 | Pueblo Nuevo\n",
      "Processing Record 12 of Set 1 | Stoodley Corners\n",
      "Processing Record 13 of Set 1 | Mina Clavero\n",
      "Processing Record 14 of Set 1 | Avola\n",
      "Processing Record 15 of Set 1 | Saint-Nazaire\n",
      "Processing Record 16 of Set 1 | Kumalarang\n",
      "Processing Record 17 of Set 1 | Seto\n",
      "Processing Record 18 of Set 1 | Salvaterra\n"
     ]
    }
   ],
   "source": [
    "#Base url for collecting information\n",
    "url = f\"http://api.openweathermap.org/data/2.5/weather?appid={weather_api_key}&\"\n",
    "\n",
    "#Empty list to append data into\n",
    "cities =[]\n",
    "lat = []\n",
    "long = []\n",
    "max_temp = []\n",
    "humidity = []\n",
    "cloudiness = []\n",
    "wind_speed =[]\n",
    "country_code = []\n",
    "date = []\n",
    "\n",
    "#Set up the format of communicating to user the progress of obtaining data\n",
    "#changed the units to Imperial - i.e. Fahrenheit (else it would default as Kelvin)\n",
    "\n",
    "set_num = 1\n",
    "units = \"Imperial\"\n",
    "print(\"Beginning Data Retrieval\")\n",
    "print(\"--------------------------------\")\n",
    "\n",
    "#Start the loop and appending city data into the list above.\n",
    "\n",
    "for index, row in interest_cities.iterrows():\n",
    "    lat = row['lat']\n",
    "    lon = row['lng']\n",
    "     \n",
    "    response = requests.get(f\"{url}lat={lat}&lon={lon}&units={units}\").json()\n",
    "        \n",
    "    try:    \n",
    "        print(f\"Processing Record {index +1} of Set {set_num} | {response['name']}\")    \n",
    "    \n",
    "        cities_pd.loc[index, \"City\"] = response[\"name\"]\n",
    "        cities_pd.loc[index, \"Lat\"] = response[\"coord\"][\"lat\"]\n",
    "        cities_pd.loc[index, \"Lng\"] = response[\"coord\"][\"lon\"]\n",
    "        cities_pd.loc[index, \"Max Temp\"] = response[\"main\"][\"temp_max\"]\n",
    "        cities_pd.loc[index, \"Humidity\"] = response[\"main\"][\"humidity\"]\n",
    "        cities_pd.loc[index, \"Cloudiness\"] = response[\"clouds\"][\"all\"]\n",
    "        cities_pd.loc[index, \"Wind Speed\"] = response[\"wind\"][\"speed\"]\n",
    "        cities_pd.loc[index, \"Country\"] = response[\"sys\"][\"country\"]\n",
    "        cities_pd.loc[index, \"Date\"] = response[\"dt\"]\n",
    "\n",
    "    except(KeyError):\n",
    "        print(\"City not found. Skipping...\")\n",
    "        set_num += 1\n"
   ]
  },
  {
   "cell_type": "code",
   "execution_count": null,
   "metadata": {},
   "outputs": [],
   "source": [
    "cities_pd"
   ]
  },
  {
   "cell_type": "markdown",
   "metadata": {},
   "source": [
    "### Convert Raw Data to DataFrame\n",
    "* Export the city data into a .csv.\n",
    "* Display the DataFrame"
   ]
  },
  {
   "cell_type": "code",
   "execution_count": null,
   "metadata": {},
   "outputs": [],
   "source": [
    "#Remove NaN data line\n",
    "#Export the dataframe into a csv file\n",
    "cities_pd = cities_pd.dropna()\n",
    "cities_pd.to_csv(\"../Resources/output_data/cities_data.csv\", index= False, header = True)\n",
    "cities_pd\n"
   ]
  },
  {
   "cell_type": "code",
   "execution_count": null,
   "metadata": {},
   "outputs": [],
   "source": [
    "#To convert data to a float data type\n",
    "#Commented out the below line just in case it is needed again when\n",
    "#regenerating a new list of cities\n",
    "\n",
    "#cities_pd = cities_pd.astype({'Lat': float, 'Lng': float,'Max Temp': float,'Humidity': float,'Cloudiness': float,'Wind Speed': float,'Date': int})"
   ]
  },
  {
   "cell_type": "code",
   "execution_count": null,
   "metadata": {},
   "outputs": [],
   "source": [
    "#Generate a simple summary statistics of dataframe cities_pd\n",
    "cities_pd.describe()"
   ]
  },
  {
   "cell_type": "markdown",
   "metadata": {},
   "source": [
    "## Inspect the data and remove the cities where the humidity > 100%.\n",
    "----\n",
    "Skip this step if there are no cities that have humidity > 100%. "
   ]
  },
  {
   "cell_type": "code",
   "execution_count": null,
   "metadata": {},
   "outputs": [],
   "source": [
    "#Check if there is any data that has humidity greater than 100%, it seems\n",
    "#that there is none as there are still 599 rows.\n",
    "filtered_cities_pd = cities_pd[cities_pd['Humidity']<=100]\n",
    "filtered_cities_pd"
   ]
  },
  {
   "cell_type": "markdown",
   "metadata": {},
   "source": [
    "## Plotting the Data\n",
    "* Use proper labeling of the plots using plot titles (including date of analysis) and axes labels.\n",
    "* Save the plotted figures as .pngs."
   ]
  },
  {
   "cell_type": "markdown",
   "metadata": {},
   "source": [
    "## Latitude vs. Temperature Plot"
   ]
  },
  {
   "cell_type": "markdown",
   "metadata": {},
   "source": [
    "Below the graph is comparing the latitude and maximum temperature of a group of cities. \n",
    "This looks at whether there is any any relationship between the northern and sourthern hemisphere and the maximum temperature."
   ]
  },
  {
   "cell_type": "code",
   "execution_count": null,
   "metadata": {},
   "outputs": [],
   "source": [
    "fig1, ax1 = plt.subplots()\n",
    "plt.scatter(filtered_cities_pd['Lat'],filtered_cities_pd['Max Temp'] , edgecolors = 'black')\n",
    "plt.title('City Latitude vs Max Temperature (11/09/2021)')\n",
    "plt.xlabel('Latitude')\n",
    "plt.ylabel('Max Temperature(F)')\n",
    "plt.grid(True)\n",
    "plt.savefig(\"../Resources/output_data/Max Temp v Latitude.png\")\n",
    "plt.show()"
   ]
  },
  {
   "cell_type": "markdown",
   "metadata": {},
   "source": [
    "## Latitude vs. Humidity Plot"
   ]
  },
  {
   "cell_type": "markdown",
   "metadata": {},
   "source": [
    "Below the graph is comparing the latitude and humidity of a group of cities. \n",
    "This looks at whether there is any any relationship between the northern and sourthern hemisphere and the humidity."
   ]
  },
  {
   "cell_type": "code",
   "execution_count": null,
   "metadata": {},
   "outputs": [],
   "source": [
    "fig2, ax2 = plt.subplots()\n",
    "plt.scatter(filtered_cities_pd['Lat'],filtered_cities_pd['Humidity'] , edgecolors = 'black')\n",
    "plt.title('City Latitude vs Humidity (11/09/2021)')\n",
    "plt.xlabel('Latitude')\n",
    "plt.ylabel('Humidity(%)')\n",
    "plt.grid(True)\n",
    "plt.savefig(\"../Resources/output_data/Humidity v Latitude.png\")\n",
    "plt.show()"
   ]
  },
  {
   "cell_type": "markdown",
   "metadata": {},
   "source": [
    "## Latitude vs. Cloudiness Plot"
   ]
  },
  {
   "cell_type": "markdown",
   "metadata": {},
   "source": [
    "Below the graph is comparing the latitude and cloudiness of a group of cities. \n",
    "This looks at whether there is any any relationship between the northern and sourthern hemisphere and the cloudiness."
   ]
  },
  {
   "cell_type": "code",
   "execution_count": null,
   "metadata": {},
   "outputs": [],
   "source": [
    "fig3, ax3 = plt.subplots()\n",
    "plt.scatter(filtered_cities_pd['Lat'],filtered_cities_pd['Cloudiness'] , edgecolors = 'black')\n",
    "plt.title('City Latitude vs Cloudiness (11/09/2021)')\n",
    "plt.xlabel('Latitude')\n",
    "plt.ylabel('Cloudiness(%)')\n",
    "plt.grid(True)\n",
    "plt.savefig(\"../Resources/output_data/Cloudiness v Latitude.png\")\n",
    "plt.show()"
   ]
  },
  {
   "cell_type": "markdown",
   "metadata": {},
   "source": [
    "## Latitude vs. Wind Speed Plot"
   ]
  },
  {
   "cell_type": "markdown",
   "metadata": {},
   "source": [
    "Below the graph is comparing the latitude and wind speed of a group of cities. \n",
    "This looks at whether there is any any relationship between the northern and sourthern hemisphere and the wind speed."
   ]
  },
  {
   "cell_type": "code",
   "execution_count": null,
   "metadata": {},
   "outputs": [],
   "source": [
    "fig4, ax4 = plt.subplots()\n",
    "plt.scatter(filtered_cities_pd['Lat'],filtered_cities_pd['Wind Speed'] , edgecolors = 'black')\n",
    "plt.title('City Latitude vs Wind Speed (11/09/2021)')\n",
    "plt.xlabel('Latitude')\n",
    "plt.ylabel('Wind Speed (mph)')\n",
    "plt.grid(True)\n",
    "plt.savefig(\"../Resources/output_data/Wind Speed v Latitude.png\")\n",
    "plt.show()"
   ]
  },
  {
   "cell_type": "markdown",
   "metadata": {},
   "source": [
    "## Linear Regression"
   ]
  },
  {
   "cell_type": "markdown",
   "metadata": {},
   "source": [
    "####  Northern Hemisphere - Max Temp vs. Latitude Linear Regression"
   ]
  },
  {
   "cell_type": "code",
   "execution_count": null,
   "metadata": {},
   "outputs": [],
   "source": [
    "#Created a variable to filter on northern and southern hemisphere.\n",
    "northern_cities_pd = filtered_cities_pd.loc[filtered_cities_pd['Lat']>0]\n",
    "sothern_cities_pd = filtered_cities_pd.loc[filtered_cities_pd['Lat']<=0]\n",
    "\n",
    "#continued with coding of plotting the linear regression...\n",
    "x_values = northern_cities_pd['Lat']\n",
    "y_values = northern_cities_pd['Max Temp']\n",
    "\n",
    "fig4, ax4 = plt.subplots()\n",
    "(slope, intercept, rvalue, pvalue, stderr) = linregress(x_values,y_values)\n",
    "regress_values = x_values * slope + intercept\n",
    "line_eq = \"y = \" + str(round(slope,2)) + \"x + \" + str(round(intercept,2))\n",
    "plt.plot(x_values,regress_values,\"r-\")\n",
    "plt.annotate(line_eq,(5,45),fontsize=15,color=\"red\")\n",
    "print(f\"The r-squared is: {rvalue**2}\")\n",
    "plt.scatter(x_values, y_values)\n",
    "plt.xlabel('Latitude')\n",
    "plt.ylabel('Max Temperature(F)')\n",
    "plt.savefig(\"../Resources/output_data/NH - Max Temp v Latitude.png\")\n",
    "plt.show()\n"
   ]
  },
  {
   "cell_type": "markdown",
   "metadata": {},
   "source": [
    "####  Southern Hemisphere - Max Temp vs. Latitude Linear Regression"
   ]
  },
  {
   "cell_type": "code",
   "execution_count": null,
   "metadata": {},
   "outputs": [],
   "source": [
    "x_values = sothern_cities_pd['Lat']\n",
    "y_values = sothern_cities_pd['Max Temp']\n",
    "\n",
    "fig4, ax4 = plt.subplots()\n",
    "(slope, intercept, rvalue, pvalue, stderr) = linregress(x_values,y_values)\n",
    "regress_values = x_values * slope + intercept\n",
    "line_eq = \"y = \" + str(round(slope,2)) + \"x + \" + str(round(intercept,2))\n",
    "plt.plot(x_values,regress_values,\"r-\")\n",
    "plt.annotate(line_eq,(-40,80),fontsize=15,color=\"red\")\n",
    "print(f\"The r-squared is: {rvalue**2}\")\n",
    "plt.scatter(x_values, y_values)\n",
    "plt.xlabel('Latitude')\n",
    "plt.ylabel('Max Temperature(F)')\n",
    "plt.savefig(\"../Resources/output_data/SH - Max Temp v Latitude.png\")\n",
    "plt.show()"
   ]
  },
  {
   "cell_type": "markdown",
   "metadata": {},
   "source": [
    "####  Northern Hemisphere - Humidity (%) vs. Latitude Linear Regression"
   ]
  },
  {
   "cell_type": "code",
   "execution_count": null,
   "metadata": {},
   "outputs": [],
   "source": [
    "x_values = northern_cities_pd['Lat']\n",
    "y_values = northern_cities_pd['Humidity']\n",
    "\n",
    "fig5, ax5 = plt.subplots()\n",
    "(slope, intercept, rvalue, pvalue, stderr) = linregress(x_values,y_values)\n",
    "regress_values = x_values * slope + intercept\n",
    "line_eq = \"y = \" + str(round(slope,2)) + \"x + \" + str(round(intercept,2))\n",
    "plt.plot(x_values,regress_values,\"r-\")\n",
    "plt.annotate(line_eq,(40,20),fontsize=15,color=\"red\")\n",
    "print(f\"The r-squared is: {rvalue**2}\")\n",
    "plt.scatter(x_values, y_values)\n",
    "plt.xlabel('Latitude')\n",
    "plt.ylabel('Humidity')\n",
    "plt.savefig(\"../Resources/output_data/NH - Humidity v Latitude.png\")\n",
    "plt.show()"
   ]
  },
  {
   "cell_type": "markdown",
   "metadata": {},
   "source": [
    "####  Southern Hemisphere - Humidity (%) vs. Latitude Linear Regression"
   ]
  },
  {
   "cell_type": "code",
   "execution_count": null,
   "metadata": {},
   "outputs": [],
   "source": [
    "x_values = sothern_cities_pd['Lat']\n",
    "y_values = sothern_cities_pd['Humidity']\n",
    "\n",
    "fig4, ax4 = plt.subplots()\n",
    "(slope, intercept, rvalue, pvalue, stderr) = linregress(x_values,y_values)\n",
    "regress_values = x_values * slope + intercept\n",
    "line_eq = \"y = \" + str(round(slope,2)) + \"x + \" + str(round(intercept,2))\n",
    "plt.plot(x_values,regress_values,\"r-\")\n",
    "plt.annotate(line_eq,(-40,30),fontsize=15,color=\"red\")\n",
    "print(f\"The r-squared is: {rvalue**2}\")\n",
    "plt.scatter(x_values, y_values)\n",
    "plt.xlabel('Latitude')\n",
    "plt.ylabel('Humidity')\n",
    "plt.savefig(\"../Resources/output_data/SH - Humidity v Latitude.png\")\n",
    "plt.show()"
   ]
  },
  {
   "cell_type": "markdown",
   "metadata": {},
   "source": [
    "####  Northern Hemisphere - Cloudiness (%) vs. Latitude Linear Regression"
   ]
  },
  {
   "cell_type": "code",
   "execution_count": null,
   "metadata": {},
   "outputs": [],
   "source": [
    "x_values = northern_cities_pd['Lat']\n",
    "y_values = northern_cities_pd['Cloudiness']\n",
    "\n",
    "fig6, ax6 = plt.subplots()\n",
    "(slope, intercept, rvalue, pvalue, stderr) = linregress(x_values,y_values)\n",
    "regress_values = x_values * slope + intercept\n",
    "line_eq = \"y = \" + str(round(slope,2)) + \"x + \" + str(round(intercept,2))\n",
    "plt.plot(x_values,regress_values,\"r-\")\n",
    "plt.annotate(line_eq,(10,25),fontsize=15,color=\"red\")\n",
    "print(f\"The r-squared is: {rvalue**2}\")\n",
    "plt.scatter(x_values, y_values)\n",
    "plt.xlabel('Latitude')\n",
    "plt.ylabel('Cloudiness')\n",
    "plt.savefig(\"../Resources/output_data/NH - Cloudiness v Latitude.png\")\n",
    "plt.show()"
   ]
  },
  {
   "cell_type": "markdown",
   "metadata": {},
   "source": [
    "####  Southern Hemisphere - Cloudiness (%) vs. Latitude Linear Regression"
   ]
  },
  {
   "cell_type": "code",
   "execution_count": null,
   "metadata": {},
   "outputs": [],
   "source": [
    "x_values = sothern_cities_pd['Lat']\n",
    "y_values = sothern_cities_pd['Cloudiness']\n",
    "\n",
    "fig4, ax4 = plt.subplots()\n",
    "(slope, intercept, rvalue, pvalue, stderr) = linregress(x_values,y_values)\n",
    "regress_values = x_values * slope + intercept\n",
    "line_eq = \"y = \" + str(round(slope,2)) + \"x + \" + str(round(intercept,2))\n",
    "plt.plot(x_values,regress_values,\"r-\")\n",
    "plt.annotate(line_eq,(-40,30),fontsize=15,color=\"red\")\n",
    "print(f\"The r-squared is: {rvalue**2}\")\n",
    "plt.scatter(x_values, y_values)\n",
    "plt.xlabel('Latitude')\n",
    "plt.ylabel('Cloudiness')\n",
    "plt.savefig(\"../Resources/output_data/SH - Cloudiness v Latitude.png\")\n",
    "plt.show()"
   ]
  },
  {
   "cell_type": "markdown",
   "metadata": {},
   "source": [
    "####  Northern Hemisphere - Wind Speed (mph) vs. Latitude Linear Regression"
   ]
  },
  {
   "cell_type": "code",
   "execution_count": null,
   "metadata": {},
   "outputs": [],
   "source": [
    "x_values = northern_cities_pd['Lat']\n",
    "y_values = northern_cities_pd['Wind Speed']\n",
    "\n",
    "fig6, ax6 = plt.subplots()\n",
    "(slope, intercept, rvalue, pvalue, stderr) = linregress(x_values,y_values)\n",
    "regress_values = x_values * slope + intercept\n",
    "line_eq = \"y = \" + str(round(slope,2)) + \"x + \" + str(round(intercept,2))\n",
    "plt.plot(x_values,regress_values,\"r-\")\n",
    "plt.annotate(line_eq,(40,8),fontsize=15,color=\"red\")\n",
    "print(f\"The r-squared is: {rvalue**2}\")\n",
    "plt.scatter(x_values, y_values)\n",
    "plt.xlabel('Latitude')\n",
    "plt.ylabel('Wind Speed')\n",
    "plt.savefig(\"../Resources/output_data/NH - Wind Speed v Latitude.png\")\n",
    "plt.show()\n"
   ]
  },
  {
   "cell_type": "markdown",
   "metadata": {},
   "source": [
    "####  Southern Hemisphere - Wind Speed (mph) vs. Latitude Linear Regression"
   ]
  },
  {
   "cell_type": "code",
   "execution_count": null,
   "metadata": {},
   "outputs": [],
   "source": [
    "x_values = sothern_cities_pd['Lat']\n",
    "y_values = sothern_cities_pd['Wind Speed']\n",
    "\n",
    "fig4, ax4 = plt.subplots()\n",
    "(slope, intercept, rvalue, pvalue, stderr) = linregress(x_values,y_values)\n",
    "regress_values = x_values * slope + intercept\n",
    "line_eq = \"y = \" + str(round(slope,2)) + \"x + \" + str(round(intercept,2))\n",
    "plt.plot(x_values,regress_values,\"r-\")\n",
    "plt.annotate(line_eq,(-40,7),fontsize=15,color=\"red\")\n",
    "print(f\"The r-squared is: {rvalue**2}\")\n",
    "plt.scatter(x_values, y_values)\n",
    "plt.xlabel('Latitude')\n",
    "plt.ylabel('Wind Speed')\n",
    "plt.savefig(\"../Resources/output_data/SH - Wind Speed v Latitude.png\")\n",
    "plt.show()"
   ]
  }
 ],
 "metadata": {
  "anaconda-cloud": {},
  "kernel_info": {
   "name": "python3"
  },
  "kernelspec": {
   "display_name": "Python 3",
   "language": "python",
   "name": "python3"
  },
  "language_info": {
   "codemirror_mode": {
    "name": "ipython",
    "version": 3
   },
   "file_extension": ".py",
   "mimetype": "text/x-python",
   "name": "python",
   "nbconvert_exporter": "python",
   "pygments_lexer": "ipython3",
   "version": "3.8.8"
  },
  "latex_envs": {
   "LaTeX_envs_menu_present": true,
   "autoclose": false,
   "autocomplete": true,
   "bibliofile": "biblio.bib",
   "cite_by": "apalike",
   "current_citInitial": 1,
   "eqLabelWithNumbers": true,
   "eqNumInitial": 1,
   "hotkeys": {
    "equation": "Ctrl-E",
    "itemize": "Ctrl-I"
   },
   "labels_anchors": false,
   "latex_user_defs": false,
   "report_style_numbering": false,
   "user_envs_cfg": false
  },
  "nteract": {
   "version": "0.12.3"
  }
 },
 "nbformat": 4,
 "nbformat_minor": 2
}
